{
 "metadata": {
  "language_info": {
   "codemirror_mode": {
    "name": "ipython",
    "version": 3
   },
   "file_extension": ".py",
   "mimetype": "text/x-python",
   "name": "python",
   "nbconvert_exporter": "python",
   "pygments_lexer": "ipython3",
   "version": 3
  },
  "orig_nbformat": 2
 },
 "nbformat": 4,
 "nbformat_minor": 2,
 "cells": [
  {
   "cell_type": "code",
   "execution_count": null,
   "metadata": {},
   "outputs": [],
   "source": [
    "import os\n",
    "import numpy as np\n",
    "from tensorflow.keras.layers import Flatten, Dense, Dropout, GlobalAveragePooling2D\n",
    "from tensorflow.keras.models import Model\n",
    "from tensorflow.keras.applications import ResNet50\n",
    "from tensorflow.keras.preprocessing.image import ImageDataGenerator\n",
    "\n",
    "# TRAINING_SET_DIR = os.getcwd() + '/drive/MyDrive/dog_pics/all_breeds_augmented/training_set_2/'\n",
    "# VALIDATION_SET_DIR = os.getcwd() + '/drive/MyDrive/dog_pics/all_breeds_augmented/validation_set/'\n",
    "\n",
    "TRAINING_SET_DIR = os.getcwd() + '/training_set/'\n",
    "VALIDATION_SET_DIR = os.getcwd() + '/validation_set/'\n",
    "\n",
    "IMAGE_WIDTH = 500\n",
    "IMAGE_HEIGHT = 375\n",
    "\n",
    "def run_model():\n",
    "    resnet = ResNet50(include_top=False, weights=\"imagenet\")\n",
    "    resnet_output = resnet.output\n",
    "\n",
    "    resnet_output = GlobalAveragePooling2D()(resnet_output)\n",
    "\n",
    "    dropout = Dropout(0.15)(resnet_output)\n",
    "    predictions = Dense(120, activation ='softmax')(dropout)\n",
    "    model = Model(inputs = resnet.input, outputs = predictions)\n",
    "\n",
    "    for layer in resnet.layers:\n",
    "      layer.trainable = False\n",
    "\n",
    "    # Summarise and compile model\n",
    "    model.summary()\n",
    "    model.compile(loss='categorical_crossentropy',\n",
    "                  optimizer='adam',\n",
    "                  metrics=['accuracy'])\n",
    "\n",
    "    # Generate training and validation data with augmentations\n",
    "    gen_training = ImageDataGenerator()\n",
    "    training_data = gen_training.flow_from_directory(\n",
    "        directory=TRAINING_SET_DIR,\n",
    "        target_size=(IMAGE_HEIGHT, IMAGE_WIDTH),\n",
    "        class_mode='categorical',\n",
    "    )\n",
    "\n",
    "    gen_validation = ImageDataGenerator()\n",
    "    validating_data = gen_validation.flow_from_directory(\n",
    "        directory=VALIDATION_SET_DIR,\n",
    "        target_size=(IMAGE_HEIGHT, IMAGE_WIDTH),\n",
    "        class_mode='categorical',\n",
    "    )\n",
    "\n",
    "    # Fit model\n",
    "    model.fit_generator(\n",
    "        training_data,\n",
    "        steps_per_epoch=training_data.n // training_data.batch_size,\n",
    "        epochs=15,\n",
    "        validation_data=validating_data,\n",
    "        validation_steps=validating_data.n // validating_data.batch_size\n",
    "    )\n",
    "\n",
    "    model.save('dog_model.h5')\n"
   ]
  },
  {
   "cell_type": "code",
   "execution_count": null,
   "metadata": {},
   "outputs": [],
   "source": [
    "run_model()"
   ]
  }
 ]
}