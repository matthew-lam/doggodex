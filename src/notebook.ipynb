{
 "metadata": {
  "language_info": {
   "codemirror_mode": {
    "name": "ipython",
    "version": 3
   },
   "file_extension": ".py",
   "mimetype": "text/x-python",
   "name": "python",
   "nbconvert_exporter": "python",
   "pygments_lexer": "ipython3",
   "version": 3
  },
  "orig_nbformat": 2
 },
 "nbformat": 4,
 "nbformat_minor": 2,
 "cells": [
  {
   "cell_type": "code",
   "execution_count": null,
   "metadata": {},
   "outputs": [],
   "source": [
    "import os\n",
    "import numpy as np\n",
    "from tensorflow.keras.layers import Flatten, Dense, GlobalAveragePooling2D\n",
    "from tensorflow.keras.models import Model\n",
    "from tensorflow.keras.applications import InceptionV3\n",
    "from tensorflow.keras.preprocessing.image import ImageDataGenerator\n",
    "from tensorflow.keras.optimizers import SGD\n",
    "\n",
    "# TRAINING_SET_DIR = os.getcwd() + '/drive/MyDrive/dog_pics/all_breeds_augmented/training_set_2/'\n",
    "# VALIDATION_SET_DIR = os.getcwd() + '/drive/MyDrive/dog_pics/all_breeds_augmented/validation_set/'\n",
    "\n",
    "TRAINING_SET_DIR = os.getcwd() + '/training_set/'\n",
    "VALIDATION_SET_DIR = os.getcwd() + '/validation_set/'\n",
    "\n",
    "IMAGE_WIDTH = 500\n",
    "IMAGE_HEIGHT = 375\n",
    "\n",
    "def run_model():\n",
    "    # Use InceptionV3 model for feature extraction\n",
    "    inception = InceptionV3(weights='imagenet', include_top=False)\n",
    "    inception_output = inception.output\n",
    "    inception_output = GlobalAveragePooling2D()(inception_output)\n",
    "\n",
    "    # Add fully connected layer and output (prediction/classification) layer\n",
    "    fc_layer = Dense(units=720, activation ='relu')(inception_output)\n",
    "    predictions = Dense(120, activation ='softmax')(inception_output)\n",
    "    model = Model(inputs = inception.input, outputs = predictions)\n",
    "\n",
    "    # Freeze InceptionV3 layers\n",
    "    for layer in inception.layers:\n",
    "        layer.trainable = False\n",
    "\n",
    "    # Summarise and compile model\n",
    "    model.summary()\n",
    "    model.compile(loss='categorical_crossentropy',\n",
    "                  optimizer='rmsprop',\n",
    "                  metrics=['accuracy'])\n",
    "\n",
    "    # Generate training and validation data with augmentations\n",
    "    gen_training = ImageDataGenerator()\n",
    "    training_data = gen_training.flow_from_directory(\n",
    "        directory=TRAINING_SET_DIR,\n",
    "        target_size=(IMAGE_HEIGHT, IMAGE_WIDTH),\n",
    "        class_mode='categorical',\n",
    "    )\n",
    "\n",
    "    gen_validation = ImageDataGenerator()\n",
    "    validating_data = gen_validation.flow_from_directory(\n",
    "        directory=VALIDATION_SET_DIR,\n",
    "        target_size=(IMAGE_HEIGHT, IMAGE_WIDTH),\n",
    "        class_mode='categorical',\n",
    "    )\n",
    "\n",
    "    # Fit model\n",
    "    model.fit_generator(\n",
    "        training_data,\n",
    "        steps_per_epoch=training_data.n // training_data.batch_size,\n",
    "        epochs=20,\n",
    "        validation_data=validating_data,\n",
    "        validation_steps=validating_data.n // validating_data.batch_size\n",
    "    )\n"
   ]
  },
  {
   "cell_type": "code",
   "execution_count": null,
   "metadata": {},
   "outputs": [],
   "source": [
    "!unzip \"/content/drive/MyDrive/dog_pics/all_breeds_augmented/Archive.zip\" -d \"/content\""
   ]
  },
  {
   "cell_type": "code",
   "execution_count": null,
   "metadata": {},
   "outputs": [],
   "source": []
  }
 ]
}