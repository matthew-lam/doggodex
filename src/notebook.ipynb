{
 "metadata": {
  "language_info": {
   "codemirror_mode": {
    "name": "ipython",
    "version": 3
   },
   "file_extension": ".py",
   "mimetype": "text/x-python",
   "name": "python",
   "nbconvert_exporter": "python",
   "pygments_lexer": "ipython3",
   "version": 3
  },
  "orig_nbformat": 2
 },
 "nbformat": 4,
 "nbformat_minor": 2,
 "cells": [
  {
   "cell_type": "code",
   "execution_count": null,
   "metadata": {},
   "outputs": [],
   "source": [
    "import os\n",
    "import numpy as np\n",
    "from tensorflow.keras.layers import Conv2D, MaxPooling2D, Flatten, Dense\n",
    "from tensorflow.keras.models import Sequential\n",
    "from tensorflow.keras.preprocessing.image import ImageDataGenerator\n",
    "from constants import IMAGE_HEIGHT, IMAGE_WIDTH\n",
    "\n",
    "TRAINING_SET_DIR = os.getcwd() + '/augmented_dog_pics_1/training_set/'\n",
    "VALIDATION_SET_DIR = os.getcwd() + '/augmented_dog_pics_1/validation_set/'\n",
    "\n",
    "os.environ['KMP_DUPLICATE_LIB_OK'] = 'True' # Uncomment if getting 'OMP: ERROR#15' and vice versa.\n",
    "\n",
    "\n",
    "def run_model():\n",
    "    model = Sequential()\n",
    "    model.add(Conv2D(filters=64, kernel_size=5, activation='relu',\n",
    "                     input_shape=(IMAGE_HEIGHT, IMAGE_WIDTH, 3)))\n",
    "    model.add(MaxPooling2D(pool_size=5))\n",
    "    model.add(Conv2D(filters=64, kernel_size=5, activation='relu'))\n",
    "    model.add(MaxPooling2D(pool_size=5))\n",
    "    model.add(Conv2D(filters=64, kernel_size=3, activation='relu'))\n",
    "    model.add(MaxPooling2D(pool_size=3))\n",
    "    model.add(Flatten())\n",
    "    model.add(Dense(4, activation='relu'))\n",
    "    model.add(Dense(2, activation='softmax'))\n",
    "\n",
    "    model.summary()\n",
    "\n",
    "    model.compile(loss='categorical_crossentropy',\n",
    "                  optimizer='rmsprop',\n",
    "                  metrics=['accuracy'])\n",
    "\n",
    "    generator_data = ImageDataGenerator().flow_from_directory(\n",
    "        directory=TRAINING_SET_DIR,\n",
    "        target_size=(IMAGE_HEIGHT, IMAGE_WIDTH),\n",
    "        class_mode='categorical',\n",
    "    )\n",
    "\n",
    "    model.fit_generator(\n",
    "        generator_data,\n",
    "        steps_per_epoch=2000 // 32,\n",
    "        epochs=50,\n",
    "        validation_data=VALIDATION_SET_DIR,\n",
    "        validation_steps=800 // 32\n",
    "    )\n"
   ]
  }
 ]
}